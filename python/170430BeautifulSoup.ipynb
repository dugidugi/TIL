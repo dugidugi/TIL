{
 "cells": [
  {
   "cell_type": "code",
   "execution_count": 1,
   "metadata": {
    "collapsed": true
   },
   "outputs": [],
   "source": [
    "from urllib.request import urlopen\n",
    "#urllib 라이브러이 - request모듈에서 urlopen명령어를 가져온다\n",
    "from bs4 import BeautifulSoup"
   ]
  },
  {
   "cell_type": "code",
   "execution_count": null,
   "metadata": {
    "collapsed": true
   },
   "outputs": [],
   "source": [
    "html = urlopen(\"http://www.pythonscraping.com/pages/page1.html\")"
   ]
  },
  {
   "cell_type": "code",
   "execution_count": null,
   "metadata": {
    "collapsed": true
   },
   "outputs": [],
   "source": [
    "bsObj = BeautifulSoup(html.read(), \"html.parser\")\n",
    "#?BeautifulSoup()"
   ]
  },
  {
   "cell_type": "code",
   "execution_count": null,
   "metadata": {},
   "outputs": [],
   "source": [
    "print(bsObj)"
   ]
  },
  {
   "cell_type": "code",
   "execution_count": null,
   "metadata": {},
   "outputs": [],
   "source": [
    "print(bsObj.head)"
   ]
  },
  {
   "cell_type": "code",
   "execution_count": null,
   "metadata": {},
   "outputs": [],
   "source": [
    "print(bsObj.h1)"
   ]
  },
  {
   "cell_type": "code",
   "execution_count": null,
   "metadata": {},
   "outputs": [],
   "source": [
    "#####class와 id로 가져와보자"
   ]
  },
  {
   "cell_type": "code",
   "execution_count": null,
   "metadata": {
    "collapsed": true
   },
   "outputs": [],
   "source": [
    "html1 = urlopen(\"http://www.pythonscraping.com/pages/warandpeace.html\")"
   ]
  },
  {
   "cell_type": "code",
   "execution_count": null,
   "metadata": {
    "collapsed": true
   },
   "outputs": [],
   "source": [
    "bsObj2 = BeautifulSoup(html1, \"html.parser\")"
   ]
  },
  {
   "cell_type": "code",
   "execution_count": null,
   "metadata": {},
   "outputs": [],
   "source": [
    "nameList = bsObj2.findAll(\"span\", {\"class\" : \"red\"})\n",
    "#그냥 class라고 쓰면 안됨.\n",
    "#python의 class와 css의 class가 다름!! "
   ]
  },
  {
   "cell_type": "code",
   "execution_count": null,
   "metadata": {},
   "outputs": [],
   "source": [
    "for name in nameList : \n",
    "    print(name.get_text()) \n",
    "#get_text() : 태그를 제거하고 텍스트만 가져오는 함수.()꼭 써야함."
   ]
  },
  {
   "cell_type": "code",
   "execution_count": null,
   "metadata": {},
   "outputs": [],
   "source": [
    "#.findAll(tagName, tagAttributes)"
   ]
  },
  {
   "cell_type": "code",
   "execution_count": null,
   "metadata": {
    "collapsed": true
   },
   "outputs": [],
   "source": [
    "#.find(tag, attribute, recursive , text, keywords)\n",
    "#.findAll(tag, attribute, recursive , text, limit, keywords)"
   ]
  },
  {
   "cell_type": "code",
   "execution_count": null,
   "metadata": {},
   "outputs": [],
   "source": [
    "nameList = bsObj2.findAll(text = \"the prince\") \n",
    "#the prince라는 말이 몇번 나왔는지 찾기\n",
    "len(nameList) "
   ]
  },
  {
   "cell_type": "code",
   "execution_count": null,
   "metadata": {},
   "outputs": [],
   "source": [
    "#keyword 매개변수를 쓸 때 주의할 점\n",
    "bsObj2.findAll(id=\"text\")\n",
    "bsObj2.findAll(\"\", {\"id\":\"text\"}) #모든 태그에서 id가 text인거 찾기 #이게 더 바람직\n",
    "#이거 두개는같은 표현"
   ]
  },
  {
   "cell_type": "code",
   "execution_count": null,
   "metadata": {},
   "outputs": [],
   "source": [
    "#하지만 class에서는 문제가 된다\n",
    "bsObj2.findAll(class = \"green\") #오류난다. class가 python의 키워드이기 때문"
   ]
  },
  {
   "cell_type": "code",
   "execution_count": null,
   "metadata": {},
   "outputs": [],
   "source": [
    "#이렇게 써주면 괜찮다\n",
    "bsObj2.findAll(\"\", {\"class\" : \"green\"})"
   ]
  },
  {
   "cell_type": "code",
   "execution_count": null,
   "metadata": {
    "collapsed": true
   },
   "outputs": [],
   "source": [
    "####bs에서 트리 이동 : 자손, 자식, 부모, 형제 이동"
   ]
  },
  {
   "cell_type": "code",
   "execution_count": null,
   "metadata": {},
   "outputs": [],
   "source": [
    "html3 = urlopen(\"http://pythonscraping.com/pages/page3.html\")\n",
    "bsObj3 = BeautifulSoup(html3, \"html.parser\")"
   ]
  },
  {
   "cell_type": "code",
   "execution_count": null,
   "metadata": {},
   "outputs": [],
   "source": [
    "#자식 : for로 만들어야 여러개 뽑을 수 있음\n",
    "for child in bsObj3.find(\"table\", {\"id\" : \"giftList\"}).children :\n",
    "    print(child)"
   ]
  },
  {
   "cell_type": "code",
   "execution_count": null,
   "metadata": {},
   "outputs": [],
   "source": [
    "#형제 다루기\n",
    "#.next_siblings\n",
    "for sibling in bsObj3.find(\"table\", {\"id\" : \"giftList\"}).tr.next_siblings:\n",
    "    print(sibling)"
   ]
  },
  {
   "cell_type": "code",
   "execution_count": null,
   "metadata": {
    "collapsed": true
   },
   "outputs": [],
   "source": [
    "#부모 다루기\n",
    "#.parent\n",
    "#.parents"
   ]
  },
  {
   "cell_type": "code",
   "execution_count": null,
   "metadata": {
    "collapsed": true
   },
   "outputs": [],
   "source": [
    "#정규표현식\n",
    "#regexr.com 에서 알아서 공부하세요"
   ]
  },
  {
   "cell_type": "code",
   "execution_count": 2,
   "metadata": {
    "collapsed": true
   },
   "outputs": [],
   "source": [
    "html4 = urlopen(\"http://www.imdb.com/chart/moviemeter?ref_=nv_mv_mpm_8\")\n",
    "movies = BeautifulSoup(html4, \"html.parser\")"
   ]
  },
  {
   "cell_type": "code",
   "execution_count": 3,
   "metadata": {},
   "outputs": [],
   "source": [
    "moviesList = movies.findAll(\"div\", {\"class\" : \"lister\"})"
   ]
  },
  {
   "cell_type": "code",
   "execution_count": 4,
   "metadata": {},
   "outputs": [
    {
     "name": "stdout",
     "output_type": "stream",
     "text": [
      "The Fate of the Furious\n",
      "Star Wars: The Last Jedi\n",
      "Guardians of the Galaxy Vol. 2\n",
      "Thor: Ragnarök\n",
      "Beauty and the Beast\n",
      "Logan\n",
      "Suicide Squad\n",
      "Split\n",
      "Rogue One\n",
      "Sandy Wexler\n",
      "American Assassin\n",
      "It\n",
      "The Promise\n",
      "Sing\n",
      "Get Out\n",
      "Alien: Covenant\n",
      "Ghost in the Shell\n",
      "The Lost City of Z\n",
      "The Boss Baby\n",
      "Kong: Skull Island\n",
      "Guardians of the Galaxy\n",
      "The Beguiled\n",
      "Pirates of the Caribbean: Dead Men Tell No Tales\n",
      "Baywatch\n",
      "Moana\n",
      "Sinbihan Dongmulsajeon (Mysterious Animal Dictionary)\n",
      "Personal Shopper\n",
      "Transformers: The Last Knight\n",
      "Justice League\n",
      "Free Fire\n",
      "Unforgettable\n",
      "La La Land\n",
      "Power Rangers\n",
      "The Hero\n",
      "Going in Style\n",
      "Lion\n",
      "The Ten Commandments\n",
      "Gifted\n",
      "Life\n",
      "Passengers\n",
      "The Bad Batch\n",
      "Gold\n",
      "Hidden Figures\n",
      "Sleepless\n",
      "Rings\n",
      "Hacksaw Ridge\n",
      "Kingsman: The Golden Circle\n",
      "A Dog's Purpose\n",
      "The Hitman's Bodyguard\n",
      "Hush...Hush, Sweet Charlotte\n",
      "Trolls\n",
      "Furious Seven\n",
      "Star Wars: Episode VII - The Force Awakens\n",
      "The Circle\n",
      "The Dark Tower\n",
      "Spider-Man: Homecoming\n",
      "Boyka: Undisputed IV\n",
      "Arrival\n",
      "Avengers: Infinity War\n",
      "The Great Wall\n",
      "Furious 6\n",
      "The Founder\n",
      "King Arthur: Legend of the Sword\n",
      "Wonder Woman\n",
      "John Wick: Chapter 2\n",
      "Assassin's Creed\n",
      "Below Her Mouth\n",
      "The Mummy\n",
      "Dunkirk\n",
      "Aftermath\n",
      "Colossal\n",
      "The Void\n",
      "Star Trek Beyond\n",
      "Nocturnal Animals\n",
      "The Discovery\n",
      "Why Him?\n",
      "The Fast and the Furious\n",
      "Sand Castle\n",
      "X-Men: Apocalypse\n",
      "Doctor Strange\n",
      "The Autopsy of Jane Doe\n",
      "Moonlight\n",
      "Deadpool\n",
      "Smurfs: The Lost Village\n",
      "Fast & Furious 9\n",
      "Jumanji: Welcome to the Jungle\n",
      "Fifty Shades Darker\n",
      "Patriots Day\n",
      "Phoenix Forgotten\n",
      "The Bleeder\n",
      "3 Generations\n",
      "The Zookeeper's Wife\n",
      "Detroit\n",
      "Born in China\n",
      "Baby Driver\n",
      "Atomic Blonde\n",
      "Mine\n",
      "Kimi no na wa\n",
      "Silence\n",
      "Collateral Beauty\n"
     ]
    }
   ],
   "source": [
    "#IMDB스크래핑 해보기\n",
    "for movie in movies.findAll(\"td\", {\"class\" : \"titleColumn\"}) :\n",
    "    print(movie.a.get_text())"
   ]
  },
  {
   "cell_type": "code",
   "execution_count": 15,
   "metadata": {
    "collapsed": true
   },
   "outputs": [],
   "source": [
    "#ch3 스크래핑 시작하기\n",
    "\n"
   ]
  },
  {
   "cell_type": "code",
   "execution_count": 13,
   "metadata": {},
   "outputs": [],
   "source": []
  },
  {
   "cell_type": "code",
   "execution_count": null,
   "metadata": {},
   "outputs": [],
   "source": []
  },
  {
   "cell_type": "code",
   "execution_count": null,
   "metadata": {
    "collapsed": true
   },
   "outputs": [],
   "source": []
  }
 ],
 "metadata": {
  "kernelspec": {
   "display_name": "Python 3",
   "language": "python",
   "name": "python3"
  },
  "language_info": {
   "codemirror_mode": {
    "name": "ipython",
    "version": 3
   },
   "file_extension": ".py",
   "mimetype": "text/x-python",
   "name": "python",
   "nbconvert_exporter": "python",
   "pygments_lexer": "ipython3",
   "version": "3.6.0"
  }
 },
 "nbformat": 4,
 "nbformat_minor": 2
}
